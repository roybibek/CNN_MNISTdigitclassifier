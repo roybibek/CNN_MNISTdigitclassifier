{
  "nbformat": 4,
  "nbformat_minor": 0,
  "metadata": {
    "colab": {
      "name": "CNN_MNISTdigitclassifier.ipynb",
      "version": "0.3.2",
      "provenance": [],
      "include_colab_link": true
    },
    "kernelspec": {
      "name": "python3",
      "display_name": "Python 3"
    }
  },
  "cells": [
    {
      "cell_type": "markdown",
      "metadata": {
        "id": "view-in-github",
        "colab_type": "text"
      },
      "source": [
        "<a href=\"https://colab.research.google.com/github/roybibek/CNN_MNISTdigitclassifier/blob/master/CNN_MNISTdigitclassifier.ipynb\" target=\"_parent\"><img src=\"https://colab.research.google.com/assets/colab-badge.svg\" alt=\"Open In Colab\"/></a>"
      ]
    },
    {
      "metadata": {
        "id": "5_wGXWDAL0FD",
        "colab_type": "code",
        "colab": {
          "base_uri": "https://localhost:8080/",
          "height": 34
        },
        "outputId": "75a35a06-2bd6-427b-f679-40d43dbcde6f"
      },
      "cell_type": "code",
      "source": [
        ""
      ],
      "execution_count": 1,
      "outputs": [
        {
          "output_type": "stream",
          "text": [
            "Using TensorFlow backend.\n"
          ],
          "name": "stderr"
        }
      ]
    },
    {
      "metadata": {
        "id": "GB1mnN4QZRV4",
        "colab_type": "text"
      },
      "cell_type": "markdown",
      "source": [
        "**MNIST digit recognizer with CNN - Keras¶**"
      ]
    },
    {
      "metadata": {
        "id": "e4mzZ8JTaOyJ",
        "colab_type": "text"
      },
      "cell_type": "markdown",
      "source": [
        "**IMPORTS**"
      ]
    },
    {
      "metadata": {
        "id": "X-7pwI6qZNfj",
        "colab_type": "code",
        "colab": {}
      },
      "cell_type": "code",
      "source": [
        "import keras\n",
        "import numpy as np\n",
        "import pandas as pd\n",
        "from keras.models import Sequential\n",
        "from keras.layers.core import Activation, Flatten, Dense, Dropout\n",
        "from keras.layers.convolutional import Conv2D\n",
        "from keras.layers.pooling import MaxPool2D\n",
        "#from keras.layers.convolutional import Convolution2D, MaxPooling2D\n",
        "from sklearn.model_selection import train_test_split"
      ],
      "execution_count": 0,
      "outputs": []
    },
    {
      "metadata": {
        "id": "i1_TIhydaZjq",
        "colab_type": "text"
      },
      "cell_type": "markdown",
      "source": [
        " **Preprocessing Our Data**"
      ]
    },
    {
      "metadata": {
        "id": "6oL8uJq9aXPH",
        "colab_type": "text"
      },
      "cell_type": "markdown",
      "source": [
        ""
      ]
    },
    {
      "metadata": {
        "id": "5g5FvtItZXYV",
        "colab_type": "code",
        "colab": {
          "base_uri": "https://localhost:8080/",
          "height": 244
        },
        "outputId": "c634aa62-cd49-4b33-e2f9-7d7984c6ae8d"
      },
      "cell_type": "code",
      "source": [
        "train_data = pd.read_csv('train.csv')\n",
        "test_data = pd.read_csv('test.csv')\n",
        "train_data.head()"
      ],
      "execution_count": 4,
      "outputs": [
        {
          "output_type": "execute_result",
          "data": {
            "text/html": [
              "<div>\n",
              "<style scoped>\n",
              "    .dataframe tbody tr th:only-of-type {\n",
              "        vertical-align: middle;\n",
              "    }\n",
              "\n",
              "    .dataframe tbody tr th {\n",
              "        vertical-align: top;\n",
              "    }\n",
              "\n",
              "    .dataframe thead th {\n",
              "        text-align: right;\n",
              "    }\n",
              "</style>\n",
              "<table border=\"1\" class=\"dataframe\">\n",
              "  <thead>\n",
              "    <tr style=\"text-align: right;\">\n",
              "      <th></th>\n",
              "      <th>label</th>\n",
              "      <th>pixel0</th>\n",
              "      <th>pixel1</th>\n",
              "      <th>pixel2</th>\n",
              "      <th>pixel3</th>\n",
              "      <th>pixel4</th>\n",
              "      <th>pixel5</th>\n",
              "      <th>pixel6</th>\n",
              "      <th>pixel7</th>\n",
              "      <th>pixel8</th>\n",
              "      <th>...</th>\n",
              "      <th>pixel774</th>\n",
              "      <th>pixel775</th>\n",
              "      <th>pixel776</th>\n",
              "      <th>pixel777</th>\n",
              "      <th>pixel778</th>\n",
              "      <th>pixel779</th>\n",
              "      <th>pixel780</th>\n",
              "      <th>pixel781</th>\n",
              "      <th>pixel782</th>\n",
              "      <th>pixel783</th>\n",
              "    </tr>\n",
              "  </thead>\n",
              "  <tbody>\n",
              "    <tr>\n",
              "      <th>0</th>\n",
              "      <td>1</td>\n",
              "      <td>0</td>\n",
              "      <td>0</td>\n",
              "      <td>0</td>\n",
              "      <td>0</td>\n",
              "      <td>0</td>\n",
              "      <td>0</td>\n",
              "      <td>0</td>\n",
              "      <td>0</td>\n",
              "      <td>0</td>\n",
              "      <td>...</td>\n",
              "      <td>0</td>\n",
              "      <td>0</td>\n",
              "      <td>0</td>\n",
              "      <td>0</td>\n",
              "      <td>0</td>\n",
              "      <td>0</td>\n",
              "      <td>0</td>\n",
              "      <td>0</td>\n",
              "      <td>0</td>\n",
              "      <td>0</td>\n",
              "    </tr>\n",
              "    <tr>\n",
              "      <th>1</th>\n",
              "      <td>0</td>\n",
              "      <td>0</td>\n",
              "      <td>0</td>\n",
              "      <td>0</td>\n",
              "      <td>0</td>\n",
              "      <td>0</td>\n",
              "      <td>0</td>\n",
              "      <td>0</td>\n",
              "      <td>0</td>\n",
              "      <td>0</td>\n",
              "      <td>...</td>\n",
              "      <td>0</td>\n",
              "      <td>0</td>\n",
              "      <td>0</td>\n",
              "      <td>0</td>\n",
              "      <td>0</td>\n",
              "      <td>0</td>\n",
              "      <td>0</td>\n",
              "      <td>0</td>\n",
              "      <td>0</td>\n",
              "      <td>0</td>\n",
              "    </tr>\n",
              "    <tr>\n",
              "      <th>2</th>\n",
              "      <td>1</td>\n",
              "      <td>0</td>\n",
              "      <td>0</td>\n",
              "      <td>0</td>\n",
              "      <td>0</td>\n",
              "      <td>0</td>\n",
              "      <td>0</td>\n",
              "      <td>0</td>\n",
              "      <td>0</td>\n",
              "      <td>0</td>\n",
              "      <td>...</td>\n",
              "      <td>0</td>\n",
              "      <td>0</td>\n",
              "      <td>0</td>\n",
              "      <td>0</td>\n",
              "      <td>0</td>\n",
              "      <td>0</td>\n",
              "      <td>0</td>\n",
              "      <td>0</td>\n",
              "      <td>0</td>\n",
              "      <td>0</td>\n",
              "    </tr>\n",
              "    <tr>\n",
              "      <th>3</th>\n",
              "      <td>4</td>\n",
              "      <td>0</td>\n",
              "      <td>0</td>\n",
              "      <td>0</td>\n",
              "      <td>0</td>\n",
              "      <td>0</td>\n",
              "      <td>0</td>\n",
              "      <td>0</td>\n",
              "      <td>0</td>\n",
              "      <td>0</td>\n",
              "      <td>...</td>\n",
              "      <td>0</td>\n",
              "      <td>0</td>\n",
              "      <td>0</td>\n",
              "      <td>0</td>\n",
              "      <td>0</td>\n",
              "      <td>0</td>\n",
              "      <td>0</td>\n",
              "      <td>0</td>\n",
              "      <td>0</td>\n",
              "      <td>0</td>\n",
              "    </tr>\n",
              "    <tr>\n",
              "      <th>4</th>\n",
              "      <td>0</td>\n",
              "      <td>0</td>\n",
              "      <td>0</td>\n",
              "      <td>0</td>\n",
              "      <td>0</td>\n",
              "      <td>0</td>\n",
              "      <td>0</td>\n",
              "      <td>0</td>\n",
              "      <td>0</td>\n",
              "      <td>0</td>\n",
              "      <td>...</td>\n",
              "      <td>0</td>\n",
              "      <td>0</td>\n",
              "      <td>0</td>\n",
              "      <td>0</td>\n",
              "      <td>0</td>\n",
              "      <td>0</td>\n",
              "      <td>0</td>\n",
              "      <td>0</td>\n",
              "      <td>0</td>\n",
              "      <td>0</td>\n",
              "    </tr>\n",
              "  </tbody>\n",
              "</table>\n",
              "<p>5 rows × 785 columns</p>\n",
              "</div>"
            ],
            "text/plain": [
              "   label  pixel0  pixel1  pixel2  pixel3  pixel4  pixel5  pixel6  pixel7  \\\n",
              "0      1       0       0       0       0       0       0       0       0   \n",
              "1      0       0       0       0       0       0       0       0       0   \n",
              "2      1       0       0       0       0       0       0       0       0   \n",
              "3      4       0       0       0       0       0       0       0       0   \n",
              "4      0       0       0       0       0       0       0       0       0   \n",
              "\n",
              "   pixel8    ...     pixel774  pixel775  pixel776  pixel777  pixel778  \\\n",
              "0       0    ...            0         0         0         0         0   \n",
              "1       0    ...            0         0         0         0         0   \n",
              "2       0    ...            0         0         0         0         0   \n",
              "3       0    ...            0         0         0         0         0   \n",
              "4       0    ...            0         0         0         0         0   \n",
              "\n",
              "   pixel779  pixel780  pixel781  pixel782  pixel783  \n",
              "0         0         0         0         0         0  \n",
              "1         0         0         0         0         0  \n",
              "2         0         0         0         0         0  \n",
              "3         0         0         0         0         0  \n",
              "4         0         0         0         0         0  \n",
              "\n",
              "[5 rows x 785 columns]"
            ]
          },
          "metadata": {
            "tags": []
          },
          "execution_count": 4
        }
      ]
    },
    {
      "metadata": {
        "id": "PNVCuAYFZZGz",
        "colab_type": "code",
        "colab": {
          "base_uri": "https://localhost:8080/",
          "height": 50
        },
        "outputId": "7f5b8691-c673-441c-d873-dd7e13262ccb"
      },
      "cell_type": "code",
      "source": [
        "print(train_data.shape)\n",
        "print(test_data.shape)"
      ],
      "execution_count": 5,
      "outputs": [
        {
          "output_type": "stream",
          "text": [
            "(42000, 785)\n",
            "(28000, 784)\n"
          ],
          "name": "stdout"
        }
      ]
    },
    {
      "metadata": {
        "id": "HQCL2fWsZmyV",
        "colab_type": "code",
        "colab": {
          "base_uri": "https://localhost:8080/",
          "height": 34
        },
        "outputId": "16c4c252-468c-4ec0-9762-2a91a9db4931"
      },
      "cell_type": "code",
      "source": [
        "#Storing pixel array in form of length, width and channel\n",
        "features = train_data.iloc[:, 1:].values.reshape(len(train_data), 28, 28, 1)\n",
        "\n",
        "#Store the labels\n",
        "labels = train_data.iloc[:, 0].values\n",
        "\n",
        "features.shape"
      ],
      "execution_count": 6,
      "outputs": [
        {
          "output_type": "execute_result",
          "data": {
            "text/plain": [
              "(42000, 28, 28, 1)"
            ]
          },
          "metadata": {
            "tags": []
          },
          "execution_count": 6
        }
      ]
    },
    {
      "metadata": {
        "id": "x0AZwDwmZoPI",
        "colab_type": "code",
        "colab": {}
      },
      "cell_type": "code",
      "source": [
        "#converting labels to categorical features, One-hot encoding\n",
        "labels = keras.utils.to_categorical(labels, num_classes=10)"
      ],
      "execution_count": 0,
      "outputs": []
    },
    {
      "metadata": {
        "id": "vzzdyfdCZqCm",
        "colab_type": "code",
        "colab": {}
      },
      "cell_type": "code",
      "source": [
        "#Converting our features and labels to numpy array \n",
        "features = np.array(features)\n",
        "labels = np.array(labels)"
      ],
      "execution_count": 0,
      "outputs": []
    },
    {
      "metadata": {
        "id": "DHLoghEiZrmz",
        "colab_type": "code",
        "colab": {
          "base_uri": "https://localhost:8080/",
          "height": 134
        },
        "outputId": "68792e11-8bfa-4992-dd0e-3b99aea6fb25"
      },
      "cell_type": "code",
      "source": [
        "#sample one-hot encoding view\n",
        "print(labels)"
      ],
      "execution_count": 9,
      "outputs": [
        {
          "output_type": "stream",
          "text": [
            "[[0. 1. 0. ... 0. 0. 0.]\n",
            " [1. 0. 0. ... 0. 0. 0.]\n",
            " [0. 1. 0. ... 0. 0. 0.]\n",
            " ...\n",
            " [0. 0. 0. ... 1. 0. 0.]\n",
            " [0. 0. 0. ... 0. 0. 0.]\n",
            " [0. 0. 0. ... 0. 0. 1.]]\n"
          ],
          "name": "stdout"
        }
      ]
    },
    {
      "metadata": {
        "id": "xTvcNPh9ZtPR",
        "colab_type": "code",
        "colab": {
          "base_uri": "https://localhost:8080/",
          "height": 50
        },
        "outputId": "fdaddb77-1651-4024-ecb4-8d31e1d554ba"
      },
      "cell_type": "code",
      "source": [
        "#lets see the final shape of our training features and labels\n",
        "print(features.shape)\n",
        "print(labels.shape)"
      ],
      "execution_count": 10,
      "outputs": [
        {
          "output_type": "stream",
          "text": [
            "(42000, 28, 28, 1)\n",
            "(42000, 10)\n"
          ],
          "name": "stdout"
        }
      ]
    },
    {
      "metadata": {
        "id": "tMWHEsPPZuzW",
        "colab_type": "code",
        "colab": {}
      },
      "cell_type": "code",
      "source": [
        "#Train_Test_Split\n",
        "x_train, x_test, y_train, y_test = train_test_split(features, labels, test_size = 0.20, random_state=1)"
      ],
      "execution_count": 0,
      "outputs": []
    },
    {
      "metadata": {
        "id": "sTOIvwnFZxd1",
        "colab_type": "code",
        "colab": {
          "base_uri": "https://localhost:8080/",
          "height": 34
        },
        "outputId": "e3e3aa3a-4f01-4960-f2ef-d5e026f00c4a"
      },
      "cell_type": "code",
      "source": [
        "x_train.shape"
      ],
      "execution_count": 12,
      "outputs": [
        {
          "output_type": "execute_result",
          "data": {
            "text/plain": [
              "(33600, 28, 28, 1)"
            ]
          },
          "metadata": {
            "tags": []
          },
          "execution_count": 12
        }
      ]
    },
    {
      "metadata": {
        "id": "aGP5qZLMZzpD",
        "colab_type": "code",
        "colab": {
          "base_uri": "https://localhost:8080/",
          "height": 34
        },
        "outputId": "c46a92a6-62e9-4df7-b9b9-a22a3a14b53b"
      },
      "cell_type": "code",
      "source": [
        "x_test.shape"
      ],
      "execution_count": 13,
      "outputs": [
        {
          "output_type": "execute_result",
          "data": {
            "text/plain": [
              "(8400, 28, 28, 1)"
            ]
          },
          "metadata": {
            "tags": []
          },
          "execution_count": 13
        }
      ]
    },
    {
      "metadata": {
        "id": "8f0Mlmyeal1h",
        "colab_type": "text"
      },
      "cell_type": "markdown",
      "source": [
        "**. Creating Our Model**"
      ]
    },
    {
      "metadata": {
        "id": "_1fWGwlsZ02h",
        "colab_type": "code",
        "colab": {}
      },
      "cell_type": "code",
      "source": [
        "#Our Model\n",
        "\n",
        "def LeNet(width, height, channels, output):\n",
        "    model = Sequential()\n",
        "    \n",
        "    #Convulation\n",
        "    model.add(Conv2D(filters=32, kernel_size=(3,3), strides=(2,2), input_shape=(width, height, channels)))\n",
        "    \n",
        "    #ReLU Activation\n",
        "    model.add(Activation('relu'))\n",
        "    \n",
        "    #Pooling\n",
        "    model.add(MaxPool2D(pool_size=(2,2)))\n",
        "    \n",
        "    #Convolution\n",
        "    model.add(Conv2D(filters=64, kernel_size=(3,3), strides=(2,2)))\n",
        "    \n",
        "    #ReLU Activation\n",
        "    model.add(Activation('relu'))\n",
        "    \n",
        "    #Pooling\n",
        "    model.add(MaxPool2D(pool_size=(2,2)))\n",
        "    \n",
        "    model.add(Flatten())\n",
        "    \n",
        "    #Hidden Layer\n",
        "    model.add(Dense(100))\n",
        "    \n",
        "    model.add(Activation('relu'))\n",
        "    \n",
        "    model.add(Dense(output))\n",
        "    \n",
        "    model.add(Activation('softmax'))\n",
        "    \n",
        "    return model\n",
        "    \n",
        "    #We can also add dropout"
      ],
      "execution_count": 0,
      "outputs": []
    },
    {
      "metadata": {
        "id": "IBisFIZBZ4FQ",
        "colab_type": "code",
        "colab": {}
      },
      "cell_type": "code",
      "source": [
        "model = LeNet(28, 28, 1, 10)"
      ],
      "execution_count": 0,
      "outputs": []
    },
    {
      "metadata": {
        "id": "bJPHT9-EaACS",
        "colab_type": "code",
        "colab": {
          "base_uri": "https://localhost:8080/",
          "height": 504
        },
        "outputId": "4b76e29b-c127-497c-8386-58ab1acbf57e"
      },
      "cell_type": "code",
      "source": [
        "\n",
        "model.summary()"
      ],
      "execution_count": 16,
      "outputs": [
        {
          "output_type": "stream",
          "text": [
            "_________________________________________________________________\n",
            "Layer (type)                 Output Shape              Param #   \n",
            "=================================================================\n",
            "conv2d_1 (Conv2D)            (None, 13, 13, 32)        320       \n",
            "_________________________________________________________________\n",
            "activation_1 (Activation)    (None, 13, 13, 32)        0         \n",
            "_________________________________________________________________\n",
            "max_pooling2d_1 (MaxPooling2 (None, 6, 6, 32)          0         \n",
            "_________________________________________________________________\n",
            "conv2d_2 (Conv2D)            (None, 2, 2, 64)          18496     \n",
            "_________________________________________________________________\n",
            "activation_2 (Activation)    (None, 2, 2, 64)          0         \n",
            "_________________________________________________________________\n",
            "max_pooling2d_2 (MaxPooling2 (None, 1, 1, 64)          0         \n",
            "_________________________________________________________________\n",
            "flatten_1 (Flatten)          (None, 64)                0         \n",
            "_________________________________________________________________\n",
            "dense_1 (Dense)              (None, 100)               6500      \n",
            "_________________________________________________________________\n",
            "activation_3 (Activation)    (None, 100)               0         \n",
            "_________________________________________________________________\n",
            "dense_2 (Dense)              (None, 10)                1010      \n",
            "_________________________________________________________________\n",
            "activation_4 (Activation)    (None, 10)                0         \n",
            "=================================================================\n",
            "Total params: 26,326\n",
            "Trainable params: 26,326\n",
            "Non-trainable params: 0\n",
            "_________________________________________________________________\n"
          ],
          "name": "stdout"
        }
      ]
    },
    {
      "metadata": {
        "id": "SRwPtk7aaDij",
        "colab_type": "text"
      },
      "cell_type": "markdown",
      "source": [
        "** Training Our Model**"
      ]
    },
    {
      "metadata": {
        "id": "bqlfbuubaBSi",
        "colab_type": "code",
        "colab": {}
      },
      "cell_type": "code",
      "source": [
        "model.compile(loss='categorical_crossentropy', optimizer='adadelta', metrics=['accuracy'])"
      ],
      "execution_count": 0,
      "outputs": []
    },
    {
      "metadata": {
        "id": "NFi-w26zaIY1",
        "colab_type": "code",
        "colab": {}
      },
      "cell_type": "code",
      "source": [
        "epochs = 30"
      ],
      "execution_count": 0,
      "outputs": []
    },
    {
      "metadata": {
        "id": "j7MjQytgaKEi",
        "colab_type": "code",
        "colab": {
          "base_uri": "https://localhost:8080/",
          "height": 1058
        },
        "outputId": "5423aa12-7d4b-480c-8b1c-0efe3ef8847a"
      },
      "cell_type": "code",
      "source": [
        "model.fit(x_train, y_train, validation_data=(x_test, y_test), epochs=epochs)"
      ],
      "execution_count": 19,
      "outputs": [
        {
          "output_type": "stream",
          "text": [
            "Train on 33600 samples, validate on 8400 samples\n",
            "Epoch 1/30\n",
            "33600/33600 [==============================] - 9s 261us/step - loss: 14.4081 - acc: 0.1060 - val_loss: 14.4871 - val_acc: 0.1012\n",
            "Epoch 2/30\n",
            "33600/33600 [==============================] - 8s 230us/step - loss: 14.4147 - acc: 0.1057 - val_loss: 14.4871 - val_acc: 0.1012\n",
            "Epoch 3/30\n",
            "33600/33600 [==============================] - 8s 227us/step - loss: 14.4147 - acc: 0.1057 - val_loss: 14.4871 - val_acc: 0.1012\n",
            "Epoch 4/30\n",
            "33600/33600 [==============================] - 8s 229us/step - loss: 14.4147 - acc: 0.1057 - val_loss: 14.4871 - val_acc: 0.1012\n",
            "Epoch 5/30\n",
            "33600/33600 [==============================] - 8s 229us/step - loss: 14.4147 - acc: 0.1057 - val_loss: 14.4871 - val_acc: 0.1012\n",
            "Epoch 6/30\n",
            "33600/33600 [==============================] - 8s 230us/step - loss: 14.4147 - acc: 0.1057 - val_loss: 14.4871 - val_acc: 0.1012\n",
            "Epoch 7/30\n",
            "33600/33600 [==============================] - 8s 231us/step - loss: 14.4147 - acc: 0.1057 - val_loss: 14.4871 - val_acc: 0.1012\n",
            "Epoch 8/30\n",
            "33600/33600 [==============================] - 8s 233us/step - loss: 14.4147 - acc: 0.1057 - val_loss: 14.4871 - val_acc: 0.1012\n",
            "Epoch 9/30\n",
            "33600/33600 [==============================] - 8s 232us/step - loss: 14.4147 - acc: 0.1057 - val_loss: 14.4871 - val_acc: 0.1012\n",
            "Epoch 10/30\n",
            "33600/33600 [==============================] - 8s 245us/step - loss: 14.4147 - acc: 0.1057 - val_loss: 14.4871 - val_acc: 0.1012\n",
            "Epoch 11/30\n",
            "33600/33600 [==============================] - 8s 229us/step - loss: 14.4147 - acc: 0.1057 - val_loss: 14.4871 - val_acc: 0.1012\n",
            "Epoch 12/30\n",
            "33600/33600 [==============================] - 8s 229us/step - loss: 14.4147 - acc: 0.1057 - val_loss: 14.4871 - val_acc: 0.1012\n",
            "Epoch 13/30\n",
            "33600/33600 [==============================] - 8s 231us/step - loss: 14.4147 - acc: 0.1057 - val_loss: 14.4871 - val_acc: 0.1012\n",
            "Epoch 14/30\n",
            "33600/33600 [==============================] - 8s 228us/step - loss: 14.4147 - acc: 0.1057 - val_loss: 14.4871 - val_acc: 0.1012\n",
            "Epoch 15/30\n",
            "33600/33600 [==============================] - 8s 230us/step - loss: 14.4147 - acc: 0.1057 - val_loss: 14.4871 - val_acc: 0.1012\n",
            "Epoch 16/30\n",
            "33600/33600 [==============================] - 8s 236us/step - loss: 14.4147 - acc: 0.1057 - val_loss: 14.4871 - val_acc: 0.1012\n",
            "Epoch 17/30\n",
            "33600/33600 [==============================] - 8s 233us/step - loss: 14.4147 - acc: 0.1057 - val_loss: 14.4871 - val_acc: 0.1012\n",
            "Epoch 18/30\n",
            "33600/33600 [==============================] - 8s 235us/step - loss: 14.4147 - acc: 0.1057 - val_loss: 14.4871 - val_acc: 0.1012\n",
            "Epoch 19/30\n",
            "33600/33600 [==============================] - 8s 234us/step - loss: 14.4147 - acc: 0.1057 - val_loss: 14.4871 - val_acc: 0.1012\n",
            "Epoch 20/30\n",
            "33600/33600 [==============================] - 8s 233us/step - loss: 14.4147 - acc: 0.1057 - val_loss: 14.4871 - val_acc: 0.1012\n",
            "Epoch 21/30\n",
            "33600/33600 [==============================] - 8s 235us/step - loss: 14.4147 - acc: 0.1057 - val_loss: 14.4871 - val_acc: 0.1012\n",
            "Epoch 22/30\n",
            "33600/33600 [==============================] - 8s 235us/step - loss: 14.4147 - acc: 0.1057 - val_loss: 14.4871 - val_acc: 0.1012\n",
            "Epoch 23/30\n",
            "33600/33600 [==============================] - 8s 235us/step - loss: 14.4147 - acc: 0.1057 - val_loss: 14.4871 - val_acc: 0.1012\n",
            "Epoch 24/30\n",
            "33600/33600 [==============================] - 8s 239us/step - loss: 14.4147 - acc: 0.1057 - val_loss: 14.4871 - val_acc: 0.1012\n",
            "Epoch 25/30\n",
            "33600/33600 [==============================] - 9s 263us/step - loss: 14.4147 - acc: 0.1057 - val_loss: 14.4871 - val_acc: 0.1012\n",
            "Epoch 26/30\n",
            "33600/33600 [==============================] - 8s 239us/step - loss: 14.4147 - acc: 0.1057 - val_loss: 14.4871 - val_acc: 0.1012\n",
            "Epoch 27/30\n",
            "33600/33600 [==============================] - 8s 238us/step - loss: 14.4147 - acc: 0.1057 - val_loss: 14.4871 - val_acc: 0.1012\n",
            "Epoch 28/30\n",
            "33600/33600 [==============================] - 8s 237us/step - loss: 14.4147 - acc: 0.1057 - val_loss: 14.4871 - val_acc: 0.1012\n",
            "Epoch 29/30\n",
            "33600/33600 [==============================] - 8s 235us/step - loss: 14.4147 - acc: 0.1057 - val_loss: 14.4871 - val_acc: 0.1012\n",
            "Epoch 30/30\n",
            "33600/33600 [==============================] - 8s 237us/step - loss: 14.4147 - acc: 0.1057 - val_loss: 14.4871 - val_acc: 0.1012\n"
          ],
          "name": "stdout"
        },
        {
          "output_type": "execute_result",
          "data": {
            "text/plain": [
              "<keras.callbacks.History at 0x7f0d786e6e80>"
            ]
          },
          "metadata": {
            "tags": []
          },
          "execution_count": 19
        }
      ]
    },
    {
      "metadata": {
        "id": "WL_CJLsTaL2a",
        "colab_type": "code",
        "colab": {}
      },
      "cell_type": "code",
      "source": [
        "#Saving Our Model\n",
        "model.save_weights('cnn_mnist.h5')"
      ],
      "execution_count": 0,
      "outputs": []
    },
    {
      "metadata": {
        "id": "It80KVj_asml",
        "colab_type": "code",
        "colab": {}
      },
      "cell_type": "code",
      "source": [
        "#Loading Our Saved Model\n",
        "model.load_weights('cnn_mnist.h5')"
      ],
      "execution_count": 0,
      "outputs": []
    },
    {
      "metadata": {
        "id": "ONjSCFuca0px",
        "colab_type": "text"
      },
      "cell_type": "markdown",
      "source": [
        "**Testing**"
      ]
    },
    {
      "metadata": {
        "id": "ieMApWr2ay4t",
        "colab_type": "text"
      },
      "cell_type": "markdown",
      "source": [
        ""
      ]
    },
    {
      "metadata": {
        "id": "DtvZpSRtauFO",
        "colab_type": "code",
        "colab": {
          "base_uri": "https://localhost:8080/",
          "height": 244
        },
        "outputId": "5a71532f-497d-4e6e-986f-b040d2a2e787"
      },
      "cell_type": "code",
      "source": [
        "#our test data\n",
        "test_data.head()"
      ],
      "execution_count": 22,
      "outputs": [
        {
          "output_type": "execute_result",
          "data": {
            "text/html": [
              "<div>\n",
              "<style scoped>\n",
              "    .dataframe tbody tr th:only-of-type {\n",
              "        vertical-align: middle;\n",
              "    }\n",
              "\n",
              "    .dataframe tbody tr th {\n",
              "        vertical-align: top;\n",
              "    }\n",
              "\n",
              "    .dataframe thead th {\n",
              "        text-align: right;\n",
              "    }\n",
              "</style>\n",
              "<table border=\"1\" class=\"dataframe\">\n",
              "  <thead>\n",
              "    <tr style=\"text-align: right;\">\n",
              "      <th></th>\n",
              "      <th>pixel0</th>\n",
              "      <th>pixel1</th>\n",
              "      <th>pixel2</th>\n",
              "      <th>pixel3</th>\n",
              "      <th>pixel4</th>\n",
              "      <th>pixel5</th>\n",
              "      <th>pixel6</th>\n",
              "      <th>pixel7</th>\n",
              "      <th>pixel8</th>\n",
              "      <th>pixel9</th>\n",
              "      <th>...</th>\n",
              "      <th>pixel774</th>\n",
              "      <th>pixel775</th>\n",
              "      <th>pixel776</th>\n",
              "      <th>pixel777</th>\n",
              "      <th>pixel778</th>\n",
              "      <th>pixel779</th>\n",
              "      <th>pixel780</th>\n",
              "      <th>pixel781</th>\n",
              "      <th>pixel782</th>\n",
              "      <th>pixel783</th>\n",
              "    </tr>\n",
              "  </thead>\n",
              "  <tbody>\n",
              "    <tr>\n",
              "      <th>0</th>\n",
              "      <td>0</td>\n",
              "      <td>0</td>\n",
              "      <td>0</td>\n",
              "      <td>0</td>\n",
              "      <td>0</td>\n",
              "      <td>0</td>\n",
              "      <td>0</td>\n",
              "      <td>0</td>\n",
              "      <td>0</td>\n",
              "      <td>0</td>\n",
              "      <td>...</td>\n",
              "      <td>0</td>\n",
              "      <td>0</td>\n",
              "      <td>0</td>\n",
              "      <td>0</td>\n",
              "      <td>0</td>\n",
              "      <td>0</td>\n",
              "      <td>0</td>\n",
              "      <td>0</td>\n",
              "      <td>0</td>\n",
              "      <td>0</td>\n",
              "    </tr>\n",
              "    <tr>\n",
              "      <th>1</th>\n",
              "      <td>0</td>\n",
              "      <td>0</td>\n",
              "      <td>0</td>\n",
              "      <td>0</td>\n",
              "      <td>0</td>\n",
              "      <td>0</td>\n",
              "      <td>0</td>\n",
              "      <td>0</td>\n",
              "      <td>0</td>\n",
              "      <td>0</td>\n",
              "      <td>...</td>\n",
              "      <td>0</td>\n",
              "      <td>0</td>\n",
              "      <td>0</td>\n",
              "      <td>0</td>\n",
              "      <td>0</td>\n",
              "      <td>0</td>\n",
              "      <td>0</td>\n",
              "      <td>0</td>\n",
              "      <td>0</td>\n",
              "      <td>0</td>\n",
              "    </tr>\n",
              "    <tr>\n",
              "      <th>2</th>\n",
              "      <td>0</td>\n",
              "      <td>0</td>\n",
              "      <td>0</td>\n",
              "      <td>0</td>\n",
              "      <td>0</td>\n",
              "      <td>0</td>\n",
              "      <td>0</td>\n",
              "      <td>0</td>\n",
              "      <td>0</td>\n",
              "      <td>0</td>\n",
              "      <td>...</td>\n",
              "      <td>0</td>\n",
              "      <td>0</td>\n",
              "      <td>0</td>\n",
              "      <td>0</td>\n",
              "      <td>0</td>\n",
              "      <td>0</td>\n",
              "      <td>0</td>\n",
              "      <td>0</td>\n",
              "      <td>0</td>\n",
              "      <td>0</td>\n",
              "    </tr>\n",
              "    <tr>\n",
              "      <th>3</th>\n",
              "      <td>0</td>\n",
              "      <td>0</td>\n",
              "      <td>0</td>\n",
              "      <td>0</td>\n",
              "      <td>0</td>\n",
              "      <td>0</td>\n",
              "      <td>0</td>\n",
              "      <td>0</td>\n",
              "      <td>0</td>\n",
              "      <td>0</td>\n",
              "      <td>...</td>\n",
              "      <td>0</td>\n",
              "      <td>0</td>\n",
              "      <td>0</td>\n",
              "      <td>0</td>\n",
              "      <td>0</td>\n",
              "      <td>0</td>\n",
              "      <td>0</td>\n",
              "      <td>0</td>\n",
              "      <td>0</td>\n",
              "      <td>0</td>\n",
              "    </tr>\n",
              "    <tr>\n",
              "      <th>4</th>\n",
              "      <td>0</td>\n",
              "      <td>0</td>\n",
              "      <td>0</td>\n",
              "      <td>0</td>\n",
              "      <td>0</td>\n",
              "      <td>0</td>\n",
              "      <td>0</td>\n",
              "      <td>0</td>\n",
              "      <td>0</td>\n",
              "      <td>0</td>\n",
              "      <td>...</td>\n",
              "      <td>0</td>\n",
              "      <td>0</td>\n",
              "      <td>0</td>\n",
              "      <td>0</td>\n",
              "      <td>0</td>\n",
              "      <td>0</td>\n",
              "      <td>0</td>\n",
              "      <td>0</td>\n",
              "      <td>0</td>\n",
              "      <td>0</td>\n",
              "    </tr>\n",
              "  </tbody>\n",
              "</table>\n",
              "<p>5 rows × 784 columns</p>\n",
              "</div>"
            ],
            "text/plain": [
              "   pixel0  pixel1  pixel2  pixel3  pixel4  pixel5  pixel6  pixel7  pixel8  \\\n",
              "0       0       0       0       0       0       0       0       0       0   \n",
              "1       0       0       0       0       0       0       0       0       0   \n",
              "2       0       0       0       0       0       0       0       0       0   \n",
              "3       0       0       0       0       0       0       0       0       0   \n",
              "4       0       0       0       0       0       0       0       0       0   \n",
              "\n",
              "   pixel9    ...     pixel774  pixel775  pixel776  pixel777  pixel778  \\\n",
              "0       0    ...            0         0         0         0         0   \n",
              "1       0    ...            0         0         0         0         0   \n",
              "2       0    ...            0         0         0         0         0   \n",
              "3       0    ...            0         0         0         0         0   \n",
              "4       0    ...            0         0         0         0         0   \n",
              "\n",
              "   pixel779  pixel780  pixel781  pixel782  pixel783  \n",
              "0         0         0         0         0         0  \n",
              "1         0         0         0         0         0  \n",
              "2         0         0         0         0         0  \n",
              "3         0         0         0         0         0  \n",
              "4         0         0         0         0         0  \n",
              "\n",
              "[5 rows x 784 columns]"
            ]
          },
          "metadata": {
            "tags": []
          },
          "execution_count": 22
        }
      ]
    },
    {
      "metadata": {
        "id": "nft3dJDeayHL",
        "colab_type": "code",
        "colab": {
          "base_uri": "https://localhost:8080/",
          "height": 34
        },
        "outputId": "59b79789-e26e-4538-fe4d-eb532f024335"
      },
      "cell_type": "code",
      "source": [
        "test_data.shape"
      ],
      "execution_count": 23,
      "outputs": [
        {
          "output_type": "execute_result",
          "data": {
            "text/plain": [
              "(28000, 784)"
            ]
          },
          "metadata": {
            "tags": []
          },
          "execution_count": 23
        }
      ]
    },
    {
      "metadata": {
        "id": "oUuaHNgpa5-d",
        "colab_type": "code",
        "colab": {
          "base_uri": "https://localhost:8080/",
          "height": 34
        },
        "outputId": "a77c9b88-a2d9-4163-8e49-ae3a52bf9c1a"
      },
      "cell_type": "code",
      "source": [
        "test_set = test_data.iloc[:, :].values.reshape(len(test_data), 28, 28, 1)\n",
        "test_set.shape"
      ],
      "execution_count": 24,
      "outputs": [
        {
          "output_type": "execute_result",
          "data": {
            "text/plain": [
              "(28000, 28, 28, 1)"
            ]
          },
          "metadata": {
            "tags": []
          },
          "execution_count": 24
        }
      ]
    },
    {
      "metadata": {
        "id": "ufVpGEUKa9Ph",
        "colab_type": "text"
      },
      "cell_type": "markdown",
      "source": [
        "**Testing Our whole testing dataset**"
      ]
    },
    {
      "metadata": {
        "id": "eWM2wQgGa7qV",
        "colab_type": "code",
        "colab": {
          "base_uri": "https://localhost:8080/",
          "height": 34
        },
        "outputId": "d57a0858-82dd-49f0-badb-5c2dfb996e36"
      },
      "cell_type": "code",
      "source": [
        "prediction = model.predict(test_set)\n",
        "prediction = np.argmax(prediction, axis=1)\n",
        "prediction"
      ],
      "execution_count": 25,
      "outputs": [
        {
          "output_type": "execute_result",
          "data": {
            "text/plain": [
              "array([7, 7, 7, ..., 7, 7, 7])"
            ]
          },
          "metadata": {
            "tags": []
          },
          "execution_count": 25
        }
      ]
    },
    {
      "metadata": {
        "id": "_BbzUfT8bA7D",
        "colab_type": "code",
        "colab": {}
      },
      "cell_type": "code",
      "source": [
        "#for Kaggle: Writing prediction to CSV File\n",
        "df = pd.DataFrame({\n",
        "    'S.N.' : list(range(1,len(prediction)+1)),\n",
        "    'Output' : prediction\n",
        "})\n",
        "\n",
        "df.to_csv(\"prediction.csv\", index=False, header=True)"
      ],
      "execution_count": 0,
      "outputs": []
    },
    {
      "metadata": {
        "id": "08gfE-BUbSL4",
        "colab_type": "text"
      },
      "cell_type": "markdown",
      "source": [
        "**Testing single image(array) from testing set**"
      ]
    },
    {
      "metadata": {
        "id": "3gurnCHybJ2s",
        "colab_type": "code",
        "colab": {
          "base_uri": "https://localhost:8080/",
          "height": 34
        },
        "outputId": "a20cefd4-de60-43ab-f27b-ee160d05b02b"
      },
      "cell_type": "code",
      "source": [
        "#take third value of test set and reshaping it to test\n",
        "test_x = test_data.iloc[2, :].values.reshape(1,28, 28, 1)\n",
        "test_x.shape"
      ],
      "execution_count": 28,
      "outputs": [
        {
          "output_type": "execute_result",
          "data": {
            "text/plain": [
              "(1, 28, 28, 1)"
            ]
          },
          "metadata": {
            "tags": []
          },
          "execution_count": 28
        }
      ]
    },
    {
      "metadata": {
        "id": "2xJCPIl0bVPz",
        "colab_type": "code",
        "colab": {
          "base_uri": "https://localhost:8080/",
          "height": 34
        },
        "outputId": "17a461ca-a1d6-4335-8df1-ffe962896b67"
      },
      "cell_type": "code",
      "source": [
        "single_prediction = model.predict(test_x)\n",
        "print(\"Your Predicted Number is: {}\".format(np.argmax(single_prediction, axis=1)))"
      ],
      "execution_count": 29,
      "outputs": [
        {
          "output_type": "stream",
          "text": [
            "Your Predicted Number is: [7]\n"
          ],
          "name": "stdout"
        }
      ]
    },
    {
      "metadata": {
        "id": "JhX4j1b-bafD",
        "colab_type": "text"
      },
      "cell_type": "markdown",
      "source": [
        "**Converting our testing single data to image for confirmation of our prediction**"
      ]
    },
    {
      "metadata": {
        "id": "oV-QFHr3bW2L",
        "colab_type": "code",
        "colab": {
          "base_uri": "https://localhost:8080/",
          "height": 34
        },
        "outputId": "e25e6d6d-0479-4ed7-b538-56453db64b1d"
      },
      "cell_type": "code",
      "source": [
        "test_x = test_data.iloc[2, :].values\n",
        "test_x.shape"
      ],
      "execution_count": 30,
      "outputs": [
        {
          "output_type": "execute_result",
          "data": {
            "text/plain": [
              "(784,)"
            ]
          },
          "metadata": {
            "tags": []
          },
          "execution_count": 30
        }
      ]
    },
    {
      "metadata": {
        "id": "vcTRsO8ubdqI",
        "colab_type": "code",
        "colab": {
          "base_uri": "https://localhost:8080/",
          "height": 34
        },
        "outputId": "e9f35deb-4241-4c19-ad29-4bd2c8bba12a"
      },
      "cell_type": "code",
      "source": [
        "test_x = np.array(test_x)\n",
        "test_x = test_x.reshape(28,28)\n",
        "test_x.shape"
      ],
      "execution_count": 31,
      "outputs": [
        {
          "output_type": "execute_result",
          "data": {
            "text/plain": [
              "(28, 28)"
            ]
          },
          "metadata": {
            "tags": []
          },
          "execution_count": 31
        }
      ]
    },
    {
      "metadata": {
        "id": "s0Zg0brobfb7",
        "colab_type": "code",
        "colab": {
          "base_uri": "https://localhost:8080/",
          "height": 282
        },
        "outputId": "c2f3ca8b-7359-4896-c669-413c2bc7781a"
      },
      "cell_type": "code",
      "source": [
        "from matplotlib import pyplot as plt\n",
        "%matplotlib inline\n",
        "plt.imshow(test_x, cmap='gray');\n",
        "test_x.shape"
      ],
      "execution_count": 32,
      "outputs": [
        {
          "output_type": "execute_result",
          "data": {
            "text/plain": [
              "(28, 28)"
            ]
          },
          "metadata": {
            "tags": []
          },
          "execution_count": 32
        },
        {
          "output_type": "display_data",
          "data": {
            "image/png": "[encoded data removed]",
            "text/plain": [
              "<matplotlib.figure.Figure at 0x7f0d98864dd8>"
            ]
          },
          "metadata": {
            "tags": []
          }
        }
      ]
    },
    {
      "metadata": {
        "id": "BBUTqYtUbhKN",
        "colab_type": "code",
        "colab": {}
      },
      "cell_type": "code",
      "source": [
        "#Prediction is right"
      ],
      "execution_count": 0,
      "outputs": []
    },
    {
      "metadata": {
        "id": "hwG7vF1pbi8T",
        "colab_type": "code",
        "colab": {}
      },
      "cell_type": "code",
      "source": [
        ""
      ],
      "execution_count": 0,
      "outputs": []
    }
  ]
}